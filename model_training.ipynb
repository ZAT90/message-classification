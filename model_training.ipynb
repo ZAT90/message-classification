{
 "cells": [
  {
   "cell_type": "code",
   "execution_count": 1,
   "id": "80041332-08d1-4e41-84d7-08df7b9c9615",
   "metadata": {},
   "outputs": [
    {
     "name": "stderr",
     "output_type": "stream",
     "text": [
      "[nltk_data] Downloading package punkt to /Users/zat_km/nltk_data...\n",
      "[nltk_data]   Package punkt is already up-to-date!\n",
      "[nltk_data] Downloading package stopwords to\n",
      "[nltk_data]     /Users/zat_km/nltk_data...\n",
      "[nltk_data]   Package stopwords is already up-to-date!\n",
      "[nltk_data] Downloading package wordnet to /Users/zat_km/nltk_data...\n",
      "[nltk_data]   Package wordnet is already up-to-date!\n"
     ]
    },
    {
     "name": "stdout",
     "output_type": "stream",
     "text": [
      "Accuracy: 91.39%\n",
      "Classification Report:\n",
      "              precision    recall  f1-score   support\n",
      "\n",
      "        spam       0.91      1.00      0.95       965\n",
      "         ham       0.98      0.37      0.53       150\n",
      "\n",
      "    accuracy                           0.91      1115\n",
      "   macro avg       0.95      0.68      0.74      1115\n",
      "weighted avg       0.92      0.91      0.90      1115\n",
      "\n"
     ]
    },
    {
     "name": "stderr",
     "output_type": "stream",
     "text": [
      "/usr/local/Cellar/jupyterlab/4.2.5_1/libexec/lib/python3.12/site-packages/sklearn/linear_model/_logistic.py:1256: FutureWarning: 'multi_class' was deprecated in version 1.5 and will be removed in 1.7. Use OneVsRestClassifier(LogisticRegression(..)) instead. Leave it to its default value to avoid this warning.\n",
      "  warnings.warn(\n"
     ]
    }
   ],
   "source": [
    "%run data_preprocessing.ipynb\n",
    "from sklearn.model_selection import train_test_split\n",
    "from sklearn.linear_model import LogisticRegression\n",
    "from sklearn.metrics import classification_report, accuracy_score\n",
    "from sklearn.preprocessing import LabelEncoder\n",
    "# Step 1: Label Encoding\n",
    "def encode_labels(data):\n",
    "    label_encoder = LabelEncoder()\n",
    "    data['label_encoded'] = label_encoder.fit_transform(data['label']) \n",
    "    return data\n",
    "\n",
    "# Step 2: Split the data into features (X) and labels (y), then into training and testing sets\n",
    "def split_data(data):\n",
    "    \"\"\"\n",
    "    Split the data into features (X) and target labels (y), then into training and testing sets.\n",
    "    :param data: DataFrame with document vectors and labels.\n",
    "    :return: Split data: X_train, X_test, y_train, y_test.\n",
    "    \"\"\"\n",
    "    # Features: Document vectors (X)\n",
    "    X = list(data['document_vector'])\n",
    "    \n",
    "    # Target: Encoded labels (y)\n",
    "    y = data['label_encoded']\n",
    "    \n",
    "    # Split into training (80%) and testing (20%) sets\n",
    "    X_train, X_test, y_train, y_test = train_test_split(X, y, test_size=0.2, random_state=42)\n",
    "    \n",
    "    return X_train, X_test, y_train, y_test\n",
    "\n",
    "# Step 3: Train a Logistic Regression Classifier for multi-class classification\n",
    "def train_classifier(X_train, y_train):\n",
    "    \"\"\"\n",
    "    Train a Logistic Regression model for multi-class classification.\n",
    "    :param X_train: Training features (document vectors).\n",
    "    :param y_train: Training labels (encoded labels).\n",
    "    :return: Trained model.\n",
    "    \"\"\"\n",
    "    model = LogisticRegression(max_iter=1000, multi_class='ovr')  # One-vs-Rest strategy\n",
    "    model.fit(X_train, y_train)\n",
    "    return model\n",
    "    \n",
    "# Step 4: Evaluate the trained model\n",
    "def evaluate_classifier(model, X_test, y_test):\n",
    "    \"\"\"\n",
    "    Evaluate the trained model on the test data.\n",
    "    :param model: Trained model.\n",
    "    :param X_test: Testing features (document vectors).\n",
    "    :param y_test: True labels for the test data.\n",
    "    \"\"\"\n",
    "    # Make predictions on the test set\n",
    "    y_pred = model.predict(X_test)\n",
    "    \n",
    "    # Calculate and display accuracy\n",
    "    accuracy = accuracy_score(y_test, y_pred)\n",
    "    print(f\"Accuracy: {accuracy * 100:.2f}%\")\n",
    "    \n",
    "    # Classification report (precision, recall, F1-score)\n",
    "    print(\"Classification Report:\")\n",
    "    print(classification_report(y_test, y_pred, target_names=[\"spam\", \"ham\", ]))\n",
    "\n",
    "file_path = 'sms_spam.csv'\n",
    "data = preprocess_and_vectorize(file_path)\n",
    "\n",
    "data = encode_labels(data)\n",
    "\n",
    "# Step 2: Encode the labels\n",
    "data = encode_labels(data)\n",
    "\n",
    "# Step 3: Split data into training and testing sets\n",
    "X_train, X_test, y_train, y_test = split_data(data)\n",
    "\n",
    "# Step 4: Train the classifier\n",
    "model = train_classifier(X_train, y_train)\n",
    "\n",
    "# Step 5: Evaluate the classifier\n",
    "evaluate_classifier(model, X_test, y_test)\n"
   ]
  },
  {
   "cell_type": "code",
   "execution_count": null,
   "id": "899810ea-c84b-4b6f-be0b-83ddee7815bf",
   "metadata": {},
   "outputs": [],
   "source": []
  },
  {
   "cell_type": "code",
   "execution_count": null,
   "id": "b7b2cbbf-d334-418b-ae36-b74d1fab0c75",
   "metadata": {},
   "outputs": [],
   "source": []
  }
 ],
 "metadata": {
  "kernelspec": {
   "display_name": "Python 3 (ipykernel)",
   "language": "python",
   "name": "python3"
  },
  "language_info": {
   "codemirror_mode": {
    "name": "ipython",
    "version": 3
   },
   "file_extension": ".py",
   "mimetype": "text/x-python",
   "name": "python",
   "nbconvert_exporter": "python",
   "pygments_lexer": "ipython3",
   "version": "3.12.7"
  }
 },
 "nbformat": 4,
 "nbformat_minor": 5
}
